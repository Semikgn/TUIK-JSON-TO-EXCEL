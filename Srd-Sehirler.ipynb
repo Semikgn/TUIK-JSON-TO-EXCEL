{
 "cells": [
  {
   "cell_type": "code",
   "execution_count": 8,
   "id": "4169ba0e-5063-4f4a-aa19-561e81a0e9f0",
   "metadata": {},
   "outputs": [
    {
     "name": "stdout",
     "output_type": "stream",
     "text": [
      "Dosya kaydedildi: C:\\out / girisim-sayilari.xlsx\n"
     ]
    }
   ],
   "source": [
    "import json\n",
    "import pathlib\n",
    "import pandas as pd\n",
    "import re\n",
    "\n",
    "# Plaka -> İl eşlemesi\n",
    "PLAKA_TO_IL = {\n",
    "    1:\"Adana\",2:\"Adıyaman\",3:\"Afyonkarahisar\",4:\"Ağrı\",5:\"Amasya\",6:\"Ankara\",7:\"Antalya\",8:\"Artvin\",9:\"Aydın\",\n",
    "    10:\"Balıkesir\",11:\"Bilecik\",12:\"Bingöl\",13:\"Bitlis\",14:\"Bolu\",15:\"Burdur\",16:\"Bursa\",17:\"Çanakkale\",18:\"Çankırı\",\n",
    "    19:\"Çorum\",20:\"Denizli\",21:\"Diyarbakır\",22:\"Edirne\",23:\"Elazığ\",24:\"Erzincan\",25:\"Erzurum\",26:\"Eskişehir\",\n",
    "    27:\"Gaziantep\",28:\"Giresun\",29:\"Gümüşhane\",30:\"Hakkâri\",31:\"Hatay\",32:\"Isparta\",33:\"Mersin\",34:\"İstanbul\",\n",
    "    35:\"İzmir\",36:\"Kars\",37:\"Kastamonu\",38:\"Kayseri\",39:\"Kırklareli\",40:\"Kırşehir\",41:\"Kocaeli\",42:\"Konya\",\n",
    "    43:\"Kütahya\",44:\"Malatya\",45:\"Manisa\",46:\"Kahramanmaraş\",47:\"Mardin\",48:\"Muğla\",49:\"Muş\",50:\"Nevşehir\",\n",
    "    51:\"Niğde\",52:\"Ordu\",53:\"Rize\",54:\"Sakarya\",55:\"Samsun\",56:\"Siirt\",57:\"Sinop\",58:\"Sivas\",59:\"Tekirdağ\",\n",
    "    60:\"Tokat\",61:\"Trabzon\",62:\"Tunceli\",63:\"Şanlıurfa\",64:\"Uşak\",65:\"Van\",66:\"Yozgat\",67:\"Zonguldak\",68:\"Aksaray\",\n",
    "    69:\"Bayburt\",70:\"Karaman\",71:\"Kırıkkale\",72:\"Batman\",73:\"Şırnak\",74:\"Bartın\",75:\"Ardahan\",76:\"Iğdır\",\n",
    "    77:\"Yalova\",78:\"Karabük\",79:\"Kilis\",80:\"Osmaniye\",81:\"Düzce\"\n",
    "}\n",
    "\n",
    "def slugify_tr(s: str) -> str:\n",
    "    \"\"\"Türkçe karakterleri sadeleştirip, boşluk ve noktalama yerine tire koyar.\"\"\"\n",
    "    tr_map = str.maketrans({\n",
    "        \"ç\":\"c\",\"Ç\":\"c\",\"ğ\":\"g\",\"Ğ\":\"g\",\"ı\":\"i\",\"İ\":\"i\",\n",
    "        \"ö\":\"o\",\"Ö\":\"o\",\"ş\":\"s\",\"Ş\":\"s\",\"ü\":\"u\",\"Ü\":\"u\"\n",
    "    })\n",
    "    s = (s or \"\").translate(tr_map).lower()\n",
    "    s = re.sub(r\"[^a-z0-9]+\", \"-\", s).strip(\"-\")\n",
    "    return s or \"cikti\"\n",
    "\n",
    "# JSON klasörünün yolu\n",
    "json_dir = pathlib.Path(\"C:/jsons\")\n",
    "out_dir = pathlib.Path(\"C:/out\")\n",
    "out_dir.mkdir(parents=True, exist_ok=True)\n",
    "\n",
    "rows = []\n",
    "indicator_name = None  # gosterge_ad burada tutulacak\n",
    "\n",
    "# Tüm JSON dosyalarını oku\n",
    "for file in json_dir.glob(\"*.json\"):\n",
    "    with open(file, \"r\", encoding=\"utf-8\") as f:\n",
    "        data = json.load(f)\n",
    "\n",
    "    # İlk dosyadan gosterge_ad al\n",
    "    if indicator_name is None:\n",
    "        indicator_name = data.get(\"gosterge_ad\")\n",
    "\n",
    "    years = [int(y) for y in data.get(\"tarihler\", [])]\n",
    "\n",
    "    for item in data.get(\"veriler\", []):\n",
    "        code = int(item[\"duzeyKodu\"])\n",
    "        il = PLAKA_TO_IL.get(code, f\"Bilinmeyen-{code}\")\n",
    "        values = [int(v) for v in item.get(\"veri\", [])]\n",
    "\n",
    "        for year, value in zip(years, values):\n",
    "            rows.append({\"il_kodu\": code, \"il\": il, \"yil\": year, \"nufus\": value})\n",
    "\n",
    "# DataFrame oluştur\n",
    "df = pd.DataFrame(rows)\n",
    "\n",
    "# Geniş forma pivotla\n",
    "wide = df.drop_duplicates(subset=[\"il_kodu\",\"il\",\"yil\"], keep=\"first\") \\\n",
    "         .pivot_table(index=[\"il_kodu\",\"il\"], columns=\"yil\", values=\"nufus\") \\\n",
    "         .reset_index()\n",
    "\n",
    "wide.columns.name = None  # Pivot sonrası sütun ismini temizle\n",
    "\n",
    "# Dosya adı için slug hazırla (örn. \"Girişim sayıları\" -> \"girisim-sayilari\")\n",
    "base = slugify_tr(indicator_name)\n",
    "\n",
    "# CSV ve Excel kaydet\n",
    "# wide.to_csv(out_dir / f\"{base}.csv\", index=False, encoding=\"utf-8\")\n",
    "with pd.ExcelWriter(out_dir / f\"{base}.xlsx\", engine=\"xlsxwriter\") as writer:\n",
    "    wide.to_excel(writer, sheet_name=indicator_name, index=False)\n",
    "\n",
    "print(f\"Dosya kaydedildi: {out_dir} / {base}.xlsx\")"
   ]
  },
  {
   "cell_type": "code",
   "execution_count": null,
   "id": "575b725e-72ed-4584-a294-3e69714fea0e",
   "metadata": {},
   "outputs": [],
   "source": []
  }
 ],
 "metadata": {
  "kernelspec": {
   "display_name": "Python 3 (ipykernel)",
   "language": "python",
   "name": "python3"
  },
  "language_info": {
   "codemirror_mode": {
    "name": "ipython",
    "version": 3
   },
   "file_extension": ".py",
   "mimetype": "text/x-python",
   "name": "python",
   "nbconvert_exporter": "python",
   "pygments_lexer": "ipython3",
   "version": "3.10.0"
  }
 },
 "nbformat": 4,
 "nbformat_minor": 5
}
